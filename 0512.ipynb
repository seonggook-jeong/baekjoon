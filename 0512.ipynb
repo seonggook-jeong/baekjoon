{
 "cells": [
  {
   "cell_type": "markdown",
   "metadata": {},
   "source": [
    "# [2309](https://www.acmicpc.net/problem/2309)\n",
    "## 문제\n",
    ">왕비를 피해 일곱 난쟁이들과 함께 평화롭게 생활하고 있던 백설공주에게 위기가 찾아왔다. 일과를 마치고 돌아온 난쟁이가 일곱 명이 아닌 아홉 명이었던 것이다.  \n",
    "아홉 명의 난쟁이는 모두 자신이 \"백설 공주와 일곱 난쟁이\"의 주인공이라고 주장했다. 뛰어난 수학적 직관력을 가지고 있던 백설공주는, 다행스럽게도 일곱 난쟁이의 키의 합이 100이 됨을 기억해 냈다.  \n",
    "아홉 난쟁이의 키가 주어졌을 때, 백설공주를 도와 일곱 난쟁이를 찾는 프로그램을 작성하시오.\n",
    "## 입력\n",
    ">아홉 개의 줄에 걸쳐 난쟁이들의 키가 주어진다. 주어지는 키는 100을 넘지 않는 자연수이며, 아홉 난쟁이의 키는 모두 다르며, 가능한 정답이 여러 가지인 경우에는 아무거나 출력한다.\n",
    "## 출력\n",
    ">일곱 난쟁이의 키를 오름차순으로 출력한다. 일곱 난쟁이를 찾을 수 없는 경우는 없다."
   ]
  },
  {
   "cell_type": "code",
   "execution_count": 14,
   "metadata": {
    "ExecuteTime": {
     "end_time": "2020-05-12T11:47:06.610008Z",
     "start_time": "2020-05-12T11:46:59.040204Z"
    }
   },
   "outputs": [
    {
     "name": "stdout",
     "output_type": "stream",
     "text": [
      "20\n",
      "7\n",
      "23\n",
      "19\n",
      "10\n",
      "15\n",
      "25\n",
      "8\n",
      "13\n",
      "7\n",
      "8\n",
      "10\n",
      "13\n",
      "19\n",
      "20\n",
      "23\n"
     ]
    }
   ],
   "source": [
    "h=[]\n",
    "for _ in range(9):\n",
    "    h.append(int(input()))\n",
    "n_comb=[]    \n",
    "for i in range(8):\n",
    "    for j in range(i+1,9):\n",
    "        n_comb.append([h[i],h[j]])\n",
    "for i in n_comb:\n",
    "\n",
    "    if sum(h)-sum(i)==100:\n",
    "        h.remove(i[1])\n",
    "        h.remove(i[0])\n",
    "        break\n",
    "for i in range(7):\n",
    "    print (sorted(h)[i])"
   ]
  },
  {
   "cell_type": "markdown",
   "metadata": {},
   "source": [
    "# [1476](https://www.acmicpc.net/problem/1476)\n",
    "## 문제\n",
    ">준규가 사는 나라는 우리가 사용하는 연도와 다른 방식을 이용한다. 준규가 사는 나라에서는 수 3개를 이용해서 연도를 나타낸다. 각각의 수는 지구, 태양, 그리고 달을 나타낸다.  \n",
    "지구를 나타내는 수를 E, 태양을 나타내는 수를 S, 달을 나타내는 수를 M이라고 했을 때, 이 세 수는 서로 다른 범위를 가진다. (1 ≤ E ≤ 15, 1 ≤ S ≤ 28, 1 ≤ M ≤ 19)  \n",
    "우리가 알고있는 1년은 준규가 살고있는 나라에서는 1 1 1로 나타낼 수 있다. 1년이 지날 때마다, 세 수는 모두 1씩 증가한다. 만약, 어떤 수가 범위를 넘어가는 경우에는 1이 된다.  \n",
    "예를 들어, 15년은 15 15 15로 나타낼 수 있다. 하지만, 1년이 지나서 16년이 되면 16 16 16이 아니라 1 16 16이 된다. 이유는 1 ≤ E ≤ 15 라서 범위를 넘어가기 때문이다.  \n",
    "E, S, M이 주어졌고, 1년이 준규가 사는 나라에서 1 1 1일때, 준규가 사는 나라에서 E S M이 우리가 알고 있는 연도로 몇 년인지 구하는 프로그램을 작성하시오.  \n",
    "## 입력\n",
    ">첫째 줄에 세 수 E, S, M이 주어진다. 문제에 나와있는 범위를 지키는 입력만 주어진다.\n",
    "## 출력 \n",
    ">첫째 줄에 E S M으로 표시되는 가장 빠른 연도를 출력한다. 1 1 1은 항상 1이기 때문에, 정답이 음수가 나오는 경우는 없다."
   ]
  },
  {
   "cell_type": "code",
   "execution_count": 34,
   "metadata": {
    "ExecuteTime": {
     "end_time": "2020-05-12T12:16:23.239695Z",
     "start_time": "2020-05-12T12:16:21.252277Z"
    }
   },
   "outputs": [
    {
     "name": "stdout",
     "output_type": "stream",
     "text": [
      "15 28 19\n",
      "7980\n"
     ]
    }
   ],
   "source": [
    "e,s,m=list(map(int,input().split()))\n",
    "cnt=1\n",
    "while True:\n",
    "    if e==s==m==1:\n",
    "        print(1)\n",
    "        break\n",
    "    if cnt%15+1==e and cnt%28+1==s and cnt%19+1==m:\n",
    "        print(cnt+1)\n",
    "        break\n",
    "    cnt+=1"
   ]
  },
  {
   "cell_type": "markdown",
   "metadata": {},
   "source": [
    "# [테트로미노 14500](https://www.acmicpc.net/problem/14500)\n",
    "## 문제\n",
    ">폴리오미노란 크기가 1×1인 정사각형을 여러 개 이어서 붙인 도형이며, 다음과 같은 조건을 만족해야 한다.  \n",
    "정사각형은 서로 겹치면 안 된다.  \n",
    "도형은 모두 연결되어 있어야 한다.  \n",
    "정사각형의 변끼리 연결되어 있어야 한다. 즉, 꼭짓점과 꼭짓점만 맞닿아 있으면 안 된다.  \n",
    "정사각형 4개를 이어 붙인 폴리오미노는 테트로미노라고 하며, 다음과 같은 5가지가 있다.  \n",
    "![img](https://onlinejudgeimages.s3-ap-northeast-1.amazonaws.com/problem/14500/1.png)\n",
    "아름이는 크기가 N×M인 종이 위에 테트로미노 하나를 놓으려고 한다. 종이는 1×1 크기의 칸으로 나누어져 있으며, 각각의 칸에는 정수가 하나 쓰여 있다.  \n",
    "테트로미노 하나를 적절히 놓아서 테트로미노가 놓인 칸에 쓰여 있는 수들의 합을 최대로 하는 프로그램을 작성하시오.  \n",
    "테트로미노는 반드시 한 정사각형이 정확히 하나의 칸을 포함하도록 놓아야 하며, 회전이나 대칭을 시켜도 된다.\n",
    "## 입력\n",
    ">첫째 줄에 종이의 세로 크기 N과 가로 크기 M이 주어진다. (4 ≤ N, M ≤ 500)  \n",
    "둘째 줄부터 N개의 줄에 종이에 쓰여 있는 수가 주어진다. i번째 줄의 j번째 수는 위에서부터 i번째 칸, 왼쪽에서부터 j번째 칸에 쓰여 있는 수이다.  \n",
    "입력으로 주어지는 수는 1,000을 넘지 않는 자연수이다.\n",
    "## 출력\n",
    ">첫째 줄에 테트로미노가 놓인 칸에 쓰인 수들의 합의 최댓값을 출력한다."
   ]
  },
  {
   "cell_type": "code",
   "execution_count": 101,
   "metadata": {
    "ExecuteTime": {
     "end_time": "2020-05-12T13:56:55.380026Z",
     "start_time": "2020-05-12T13:56:40.125595Z"
    }
   },
   "outputs": [
    {
     "name": "stdout",
     "output_type": "stream",
     "text": [
      "5 5\n",
      "1 2 3 4 5\n",
      "5 4 3 2 1\n",
      "2 3 4 5 6 \n",
      "6 5 4 3 2\n",
      "1 2 1 2 1\n",
      "19\n"
     ]
    }
   ],
   "source": [
    "n, m = list(map(int,input().split()))\n",
    "nums=[]\n",
    "\n",
    "for _ in range(n):\n",
    "    nums.append(list(map(int,input().split())))\n",
    "\n",
    "result=[]\n",
    "for i in range(n):\n",
    "    for j in range(m-3):# 1*4\n",
    "        result.append(sum(nums[i][j:j+4]))\n",
    "    for j in range(m): # 4*1\n",
    "        if i<n-3:\n",
    "            result.append(nums[i][j]+nums[i+1][j]+nums[i+2][j]+nums[i+3][j])\n",
    "    for j in range(m-1):#2*2\n",
    "        if i<n-1:\n",
    "            result.append(sum(nums[i][j:j+2])+sum(nums[i+1][j:j+2]))\n",
    "    for j in range(m-2):#2*3\n",
    "        if i<n-1:\n",
    "            tw_by_th=sum(nums[i][j:j+3])+sum(nums[i+1][j:j+3])\n",
    "            result.append(tw_by_th-nums[i][j]-nums[i][j+2])#13\n",
    "            result.append(tw_by_th-nums[i][j]-nums[i+1][j+2])#16\n",
    "            result.append(tw_by_th-nums[i+1][j]-nums[i][j+2])#34\n",
    "            result.append(tw_by_th-nums[i+1][j]-nums[i+1][j+2])#46\n",
    "            result.append(tw_by_th-nums[i][j]-nums[i][j+1])#12\n",
    "            result.append(tw_by_th-nums[i][j+1]-nums[i][j+2])#23\n",
    "            result.append(tw_by_th-nums[i+1][j]-nums[i+1][j+1])#45\n",
    "            result.append(tw_by_th-nums[i+1][j+1]-nums[i+1][j+2])#56\n",
    "    for j in range(m-1): #3*2\n",
    "        if i<n-2:\n",
    "            th_by_tw=sum(nums[i][j:j+2])+sum(nums[i+1][j:j+2])+sum(nums[i+2][j:j+2])\n",
    "            result.append(th_by_tw-nums[i][j]-nums[i+2][j])#13\n",
    "            result.append(th_by_tw-nums[i][j]-nums[i+2][j+1])#16\n",
    "            result.append(th_by_tw-nums[i+2][j]-nums[i][j+1])#34\n",
    "            result.append(th_by_tw-nums[i][j+1]-nums[i+2][j+1])#46\n",
    "            result.append(th_by_tw-nums[i][j]-nums[i+1][j])#12\n",
    "            result.append(th_by_tw-nums[i+1][j]-nums[i+2][j])#23\n",
    "            result.append(th_by_tw-nums[i][j+1]-nums[i+1][j+1])#45\n",
    "            result.append(th_by_tw-nums[i+1][j+1]-nums[i+2][j+1])#56\n",
    "\n",
    "print(max(result))        "
   ]
  },
  {
   "cell_type": "markdown",
   "metadata": {},
   "source": [
    "# [1, 2, 3 더하기 9095](https://www.acmicpc.net/problem/9095)\n",
    "## 문제\n",
    ">정수 4를 1, 2, 3의 합으로 나타내는 방법은 총 7가지가 있다. 합을 나타낼 때는 수를 1개 이상 사용해야 한다.  \n",
    "* 1+1+1+1\n",
    "* 1+1+2\n",
    "* 1+2+1\n",
    "* 2+1+1\n",
    "* 2+2\n",
    "* 1+3\n",
    "* 3+1  \n",
    "정수 n이 주어졌을 때, n을 1, 2, 3의 합으로 나타내는 방법의 수를 구하는 프로그램을 작성하시오.\n",
    "## 입력\n",
    ">첫째 줄에 테스트 케이스의 개수 T가 주어진다. 각 테스트 케이스는 한 줄로 이루어져 있고, 정수 n이 주어진다. n은 양수이며 11보다 작다.\n",
    "## 출력\n",
    ">각 테스트 케이스마다, n을 1, 2, 3의 합으로 나타내는 방법의 수를 출력한다."
   ]
  },
  {
   "cell_type": "code",
   "execution_count": null,
   "metadata": {},
   "outputs": [],
   "source": [
    "l=int(input())\n",
    "for _ in range(l):\n",
    "    n=int(input())\n",
    "    th=n//3\n",
    "    for i in range(th):\n",
    "        "
   ]
  }
 ],
 "metadata": {
  "kernelspec": {
   "display_name": "Python 3",
   "language": "python",
   "name": "python3"
  },
  "language_info": {
   "codemirror_mode": {
    "name": "ipython",
    "version": 3
   },
   "file_extension": ".py",
   "mimetype": "text/x-python",
   "name": "python",
   "nbconvert_exporter": "python",
   "pygments_lexer": "ipython3",
   "version": "3.7.4"
  },
  "varInspector": {
   "cols": {
    "lenName": 16,
    "lenType": 16,
    "lenVar": 40
   },
   "kernels_config": {
    "python": {
     "delete_cmd_postfix": "",
     "delete_cmd_prefix": "del ",
     "library": "var_list.py",
     "varRefreshCmd": "print(var_dic_list())"
    },
    "r": {
     "delete_cmd_postfix": ") ",
     "delete_cmd_prefix": "rm(",
     "library": "var_list.r",
     "varRefreshCmd": "cat(var_dic_list()) "
    }
   },
   "types_to_exclude": [
    "module",
    "function",
    "builtin_function_or_method",
    "instance",
    "_Feature"
   ],
   "window_display": false
  }
 },
 "nbformat": 4,
 "nbformat_minor": 2
}
