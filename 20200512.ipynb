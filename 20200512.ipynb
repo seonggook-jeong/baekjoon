{
 "cells": [
  {
   "cell_type": "markdown",
   "metadata": {},
   "source": [
    "# [2309](https://www.acmicpc.net/problem/2309)\n",
    "## 문제\n",
    ">왕비를 피해 일곱 난쟁이들과 함께 평화롭게 생활하고 있던 백설공주에게 위기가 찾아왔다. 일과를 마치고 돌아온 난쟁이가 일곱 명이 아닌 아홉 명이었던 것이다.  \n",
    "아홉 명의 난쟁이는 모두 자신이 \"백설 공주와 일곱 난쟁이\"의 주인공이라고 주장했다. 뛰어난 수학적 직관력을 가지고 있던 백설공주는, 다행스럽게도 일곱 난쟁이의 키의 합이 100이 됨을 기억해 냈다.  \n",
    "아홉 난쟁이의 키가 주어졌을 때, 백설공주를 도와 일곱 난쟁이를 찾는 프로그램을 작성하시오.\n",
    "## 입력\n",
    ">아홉 개의 줄에 걸쳐 난쟁이들의 키가 주어진다. 주어지는 키는 100을 넘지 않는 자연수이며, 아홉 난쟁이의 키는 모두 다르며, 가능한 정답이 여러 가지인 경우에는 아무거나 출력한다.\n",
    "## 출력\n",
    ">일곱 난쟁이의 키를 오름차순으로 출력한다. 일곱 난쟁이를 찾을 수 없는 경우는 없다."
   ]
  },
  {
   "cell_type": "code",
   "execution_count": 24,
   "metadata": {
    "ExecuteTime": {
     "end_time": "2020-05-12T01:44:19.747291Z",
     "start_time": "2020-05-12T01:44:11.297958Z"
    }
   },
   "outputs": [
    {
     "name": "stdout",
     "output_type": "stream",
     "text": [
      "20\n",
      "7\n",
      "23\n",
      "19\n",
      "10\n",
      "15\n",
      "25\n",
      "8\n",
      "13\n",
      "113\n",
      "97\n",
      "101\n",
      "110\n",
      "105\n",
      "95\n",
      "112\n",
      "107\n",
      "126\n",
      "110\n",
      "114\n",
      "123\n",
      "118\n",
      "108\n",
      "125\n",
      "110\n",
      "94\n",
      "98\n",
      "107\n",
      "102\n",
      "92\n",
      "114\n",
      "98\n",
      "102\n",
      "111\n",
      "106\n",
      "123\n",
      "107\n",
      "111\n",
      "120\n",
      "118\n",
      "102\n",
      "106\n",
      "108\n",
      "92\n",
      "125\n"
     ]
    },
    {
     "ename": "NameError",
     "evalue": "name 'seven' is not defined",
     "output_type": "error",
     "traceback": [
      "\u001b[1;31m---------------------------------------------------------------------------\u001b[0m",
      "\u001b[1;31mNameError\u001b[0m                                 Traceback (most recent call last)",
      "\u001b[1;32m<ipython-input-24-6e64a661a6b6>\u001b[0m in \u001b[0;36m<module>\u001b[1;34m\u001b[0m\n\u001b[0;32m     14\u001b[0m         \u001b[1;32mbreak\u001b[0m\u001b[1;33m\u001b[0m\u001b[1;33m\u001b[0m\u001b[0m\n\u001b[0;32m     15\u001b[0m \u001b[1;32mfor\u001b[0m \u001b[0mi\u001b[0m \u001b[1;32min\u001b[0m \u001b[0mrange\u001b[0m\u001b[1;33m(\u001b[0m\u001b[1;36m7\u001b[0m\u001b[1;33m)\u001b[0m\u001b[1;33m:\u001b[0m\u001b[1;33m\u001b[0m\u001b[1;33m\u001b[0m\u001b[0m\n\u001b[1;32m---> 16\u001b[1;33m     \u001b[0mprint\u001b[0m \u001b[1;33m(\u001b[0m\u001b[0msorted\u001b[0m\u001b[1;33m(\u001b[0m\u001b[0mseven\u001b[0m\u001b[1;33m)\u001b[0m\u001b[1;33m[\u001b[0m\u001b[0mi\u001b[0m\u001b[1;33m]\u001b[0m\u001b[1;33m)\u001b[0m\u001b[1;33m\u001b[0m\u001b[1;33m\u001b[0m\u001b[0m\n\u001b[0m",
      "\u001b[1;31mNameError\u001b[0m: name 'seven' is not defined"
     ]
    }
   ],
   "source": [
    "h=[]\n",
    "for _ in range(9):\n",
    "    h.append(int(input()))\n",
    "n_comb=[]    \n",
    "for i in range(8):\n",
    "    for j in range(1,9-i):\n",
    "        n_comb.append([h[i],h[j]])\n",
    "for i in n_comb:\n",
    "    print(sum(h)-sum(i))\n",
    "    if sum(h)-sum(i)==100:\n",
    "        \n",
    "        seven=h.remove(i[0])\n",
    "        seven=seven.remove(i[1])\n",
    "        break\n",
    "for i in range(7):\n",
    "    print (sorted(seven)[i])"
   ]
  },
  {
   "cell_type": "code",
   "execution_count": 25,
   "metadata": {
    "ExecuteTime": {
     "end_time": "2020-05-12T01:44:40.097392Z",
     "start_time": "2020-05-12T01:44:40.092387Z"
    }
   },
   "outputs": [
    {
     "data": {
      "text/plain": [
       "[[20, 7],\n",
       " [20, 23],\n",
       " [20, 19],\n",
       " [20, 10],\n",
       " [20, 15],\n",
       " [20, 25],\n",
       " [20, 8],\n",
       " [20, 13],\n",
       " [7, 7],\n",
       " [7, 23],\n",
       " [7, 19],\n",
       " [7, 10],\n",
       " [7, 15],\n",
       " [7, 25],\n",
       " [7, 8],\n",
       " [23, 7],\n",
       " [23, 23],\n",
       " [23, 19],\n",
       " [23, 10],\n",
       " [23, 15],\n",
       " [23, 25],\n",
       " [19, 7],\n",
       " [19, 23],\n",
       " [19, 19],\n",
       " [19, 10],\n",
       " [19, 15],\n",
       " [10, 7],\n",
       " [10, 23],\n",
       " [10, 19],\n",
       " [10, 10],\n",
       " [15, 7],\n",
       " [15, 23],\n",
       " [15, 19],\n",
       " [25, 7],\n",
       " [25, 23],\n",
       " [8, 7]]"
      ]
     },
     "execution_count": 25,
     "metadata": {},
     "output_type": "execute_result"
    }
   ],
   "source": [
    "n_comb"
   ]
  },
  {
   "cell_type": "code",
   "execution_count": 21,
   "metadata": {
    "ExecuteTime": {
     "end_time": "2020-05-12T01:42:18.205915Z",
     "start_time": "2020-05-12T01:42:18.199917Z"
    }
   },
   "outputs": [
    {
     "data": {
      "text/plain": [
       "[1, 4, 5]"
      ]
     },
     "execution_count": 21,
     "metadata": {},
     "output_type": "execute_result"
    }
   ],
   "source": [
    "a"
   ]
  },
  {
   "cell_type": "code",
   "execution_count": null,
   "metadata": {},
   "outputs": [],
   "source": []
  }
 ],
 "metadata": {
  "kernelspec": {
   "display_name": "Python 3",
   "language": "python",
   "name": "python3"
  },
  "language_info": {
   "codemirror_mode": {
    "name": "ipython",
    "version": 3
   },
   "file_extension": ".py",
   "mimetype": "text/x-python",
   "name": "python",
   "nbconvert_exporter": "python",
   "pygments_lexer": "ipython3",
   "version": "3.7.4"
  },
  "varInspector": {
   "cols": {
    "lenName": 16,
    "lenType": 16,
    "lenVar": 40
   },
   "kernels_config": {
    "python": {
     "delete_cmd_postfix": "",
     "delete_cmd_prefix": "del ",
     "library": "var_list.py",
     "varRefreshCmd": "print(var_dic_list())"
    },
    "r": {
     "delete_cmd_postfix": ") ",
     "delete_cmd_prefix": "rm(",
     "library": "var_list.r",
     "varRefreshCmd": "cat(var_dic_list()) "
    }
   },
   "types_to_exclude": [
    "module",
    "function",
    "builtin_function_or_method",
    "instance",
    "_Feature"
   ],
   "window_display": false
  }
 },
 "nbformat": 4,
 "nbformat_minor": 2
}
