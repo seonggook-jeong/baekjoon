{
 "cells": [
  {
   "cell_type": "markdown",
   "metadata": {},
   "source": [
    "# 전화번호 목록\n",
    "## 문제\n",
    ">전화번호부에 적힌 전화번호 중, 한 번호가 다른 번호의 접두어인 경우가 있는지 확인하려 합니다.  \n",
    "전화번호가 다음과 같을 경우, 구조대 전화번호는 영석이의 전화번호의 접두사입니다.  \n",
    "* 구조대 : 119\n",
    "* 박준영 : 97 674 223\n",
    "* 지영석 : 11 9552 4421  \n",
    "\n",
    ">전화번호부에 적힌 전화번호를 담은 배열 phone_book 이 solution 함수의 매개변수로 주어질 때, 어떤 번호가 다른 번호의 접두어인 경우가 있으면 false를 그렇지 않으면 true를 return 하도록 solution 함수를 작성해주세요."
   ]
  },
  {
   "cell_type": "code",
   "execution_count": 73,
   "metadata": {
    "ExecuteTime": {
     "end_time": "2020-05-13T14:59:42.869148Z",
     "start_time": "2020-05-13T14:59:42.866148Z"
    }
   },
   "outputs": [],
   "source": [
    "phone_book=[\"12\", \"123\", \"1235\", \"567\", \"88\"]"
   ]
  },
  {
   "cell_type": "code",
   "execution_count": 87,
   "metadata": {
    "ExecuteTime": {
     "end_time": "2020-05-13T15:03:02.740769Z",
     "start_time": "2020-05-13T15:03:02.736768Z"
    }
   },
   "outputs": [],
   "source": [
    "sorted_pb=sorted(phone_book, key=len)\n",
    "l=len(sorted_pb)\n",
    "solution=True\n",
    "for i in range(l-1):\n",
    "    for  j in sorted_pb[i+1:]:\n",
    "        if sorted_pb[i]==j[:len(sorted_pb[i])]:\n",
    "            \n",
    "            solution=False\n",
    "            break"
   ]
  },
  {
   "cell_type": "markdown",
   "metadata": {},
   "source": [
    "채점을 시작합니다.  \n",
    "정확성  테스트  \n",
    "테스트 1 〉\t통과 (0.04ms, 10.7MB)  \n",
    "테스트 2 〉\t통과 (0.04ms, 10.7MB)  \n",
    "테스트 3 〉\t통과 (0.04ms, 10.7MB)  \n",
    "테스트 4 〉\t통과 (0.04ms, 10.8MB)  \n",
    "테스트 5 〉\t통과 (0.04ms, 10.7MB)  \n",
    "테스트 6 〉\t통과 (0.04ms, 10.7MB)  \n",
    "테스트 7 〉\t통과 (0.04ms, 10.6MB)  \n",
    "테스트 8 〉\t통과 (0.04ms, 10.7MB)  \n",
    "테스트 9 〉\t통과 (0.04ms, 10.6MB)  \n",
    "테스트 10 〉\t통과 (0.04ms, 10.7MB)  \n",
    "테스트 11 〉\t통과 (0.04ms, 10.7MB)  \n",
    "효율성  테스트  \n",
    "테스트 1 〉\t실패 (시간 초과)  \n",
    "테스트 2 〉\t실패 (시간 초과)  \n",
    "채점 결과  \n",
    "정확성: 84.6  \n",
    "효율성: 0.0  \n",
    "합계: 84.6 / 100.0  "
   ]
  },
  {
   "cell_type": "code",
   "execution_count": null,
   "metadata": {},
   "outputs": [],
   "source": []
  }
 ],
 "metadata": {
  "kernelspec": {
   "display_name": "Python 3",
   "language": "python",
   "name": "python3"
  },
  "language_info": {
   "codemirror_mode": {
    "name": "ipython",
    "version": 3
   },
   "file_extension": ".py",
   "mimetype": "text/x-python",
   "name": "python",
   "nbconvert_exporter": "python",
   "pygments_lexer": "ipython3",
   "version": "3.7.4"
  },
  "varInspector": {
   "cols": {
    "lenName": 16,
    "lenType": 16,
    "lenVar": 40
   },
   "kernels_config": {
    "python": {
     "delete_cmd_postfix": "",
     "delete_cmd_prefix": "del ",
     "library": "var_list.py",
     "varRefreshCmd": "print(var_dic_list())"
    },
    "r": {
     "delete_cmd_postfix": ") ",
     "delete_cmd_prefix": "rm(",
     "library": "var_list.r",
     "varRefreshCmd": "cat(var_dic_list()) "
    }
   },
   "types_to_exclude": [
    "module",
    "function",
    "builtin_function_or_method",
    "instance",
    "_Feature"
   ],
   "window_display": false
  }
 },
 "nbformat": 4,
 "nbformat_minor": 2
}
